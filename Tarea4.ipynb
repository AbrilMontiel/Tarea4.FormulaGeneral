{
  "nbformat": 4,
  "nbformat_minor": 0,
  "metadata": {
    "colab": {
      "name": "Tarea4.ipynb",
      "provenance": [],
      "authorship_tag": "ABX9TyPILj2dQm5yuBBJLPktBsOW",
      "include_colab_link": true
    },
    "kernelspec": {
      "name": "python3",
      "display_name": "Python 3"
    },
    "language_info": {
      "name": "python"
    }
  },
  "cells": [
    {
      "cell_type": "markdown",
      "metadata": {
        "id": "view-in-github",
        "colab_type": "text"
      },
      "source": [
        "<a href=\"https://colab.research.google.com/github/AbrilMontiel/Tarea4.FormulaGeneral/blob/master/Tarea4.ipynb\" target=\"_parent\"><img src=\"https://colab.research.google.com/assets/colab-badge.svg\" alt=\"Open In Colab\"/></a>"
      ]
    },
    {
      "cell_type": "code",
      "metadata": {
        "id": "HVNZ1JBXgQWc",
        "colab": {
          "base_uri": "https://localhost:8080/"
        },
        "outputId": "64e44978-bc2d-45e8-cd38-3c1467d49c7c"
      },
      "source": [
        "print(\"Programa que resuelve la formula general\\n\")\n",
        "\n",
        "def valores( a, b, c ):\n",
        "  B = (b * b) - (4 *  a * c )\n",
        "  return B\n",
        "\n",
        "def raices( a, b, B ):\n",
        "  X1 =   (( ( -b ) + (sqrt( B ) ) ) / (2 * a) )\n",
        "  X2 =   (( ( -b ) - (sqrt( B ) ) ) / (2 * a) )\n",
        "  return X1, X2\n",
        "\n",
        "a = float (input(\"Dame el valor de a: \"))\n",
        "b = float (input(\"Dame el valor de b: \"))\n",
        "c = float (input(\"Dame el valor de c: \"))\n",
        "\n",
        "B = valores(a, b, c)\n",
        "if B < 0:\n",
        "  print(\"La ecuación no tiene soluciones reales\")\n",
        "else:\n",
        "  print(\"Las soluciones son: \")\n",
        "  print (raices)\n",
        "#No se porque no salen las raices, ya revise el codigo y segun yo esta bien pero ps no se ):"
      ],
      "execution_count": null,
      "outputs": [
        {
          "output_type": "stream",
          "name": "stdout",
          "text": [
            "Programa que resuelve la formula general\n",
            "\n",
            "Dame el valor de a: 3\n",
            "Dame el valor de b: -11\n",
            "Dame el valor de c: -4\n",
            "Las soluciones son: \n",
            "<function raices at 0x7fe5e1895200>\n"
          ]
        }
      ]
    },
    {
      "cell_type": "code",
      "metadata": {
        "id": "UF0uEb4QINf1"
      },
      "source": [
        ""
      ],
      "execution_count": null,
      "outputs": []
    }
  ]
}